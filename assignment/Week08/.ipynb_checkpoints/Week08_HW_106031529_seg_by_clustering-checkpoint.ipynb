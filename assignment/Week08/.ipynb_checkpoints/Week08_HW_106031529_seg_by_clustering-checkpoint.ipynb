{
 "cells": [
  {
   "cell_type": "markdown",
   "metadata": {},
   "source": [
    "# HW Week08\n",
    "## Image segmentation\n",
    "Segment this image into 3 isolated islands and count their size."
   ]
  },
  {
   "cell_type": "markdown",
   "metadata": {},
   "source": [
    "![HW_image.PNG](./HW_image.PNG \"target\")"
   ]
  },
  {
   "cell_type": "markdown",
   "metadata": {},
   "source": [
    "***"
   ]
  },
  {
   "cell_type": "markdown",
   "metadata": {},
   "source": [
    "### Step 0: import packages"
   ]
  },
  {
   "cell_type": "code",
   "execution_count": 1,
   "metadata": {},
   "outputs": [],
   "source": [
    "import numpy as np\n",
    "from PIL import Image\n",
    "from PIL import ImageFilter\n",
    "import pandas as pd\n",
    "from sklearn.cluster import DBSCAN\n",
    "import matplotlib.pyplot as plt"
   ]
  },
  {
   "cell_type": "markdown",
   "metadata": {},
   "source": [
    "***"
   ]
  },
  {
   "cell_type": "markdown",
   "metadata": {},
   "source": [
    "### Step 1:  image (2d-array) generate"
   ]
  },
  {
   "cell_type": "code",
   "execution_count": 2,
   "metadata": {},
   "outputs": [],
   "source": [
    "im_arr = np.array([[0,0,0,0,0,0,0,0,0,0],\n",
    "                                   [0,1,1,1,1,0,0,0,1,1],\n",
    "                                   [0,0,1,1,1,0,1,1,1,1],\n",
    "                                   [0,0,1,1,0,0,1,1,1,1],\n",
    "                                   [0,1,1,1,0,0,1,1,1,0],\n",
    "                                   [0,0,0,0,0,0,0,0,1,0],\n",
    "                                   [0,0,0,1,1,1,0,0,1,0],\n",
    "                                   [0,0,0,1,1,1,1,0,0,0],\n",
    "                                   [0,0,0,1,1,1,1,0,0,0],\n",
    "                                   [0,0,0,0,0,0,1,0,0,0]])\n",
    "#print(im_arr)"
   ]
  },
  {
   "cell_type": "markdown",
   "metadata": {},
   "source": [
    "***"
   ]
  },
  {
   "cell_type": "markdown",
   "metadata": {},
   "source": [
    " ###  Step 2: 2d-array to image\n",
    " Saving array in image format"
   ]
  },
  {
   "cell_type": "code",
   "execution_count": 3,
   "metadata": {},
   "outputs": [],
   "source": [
    "im = im_arr.copy()\n",
    "im = np.where(im > 0.5, 0, -1)\n",
    "im = np.where(im < -0.5, 1, 0)\n",
    "im = Image.fromarray(np.uint8(im*255))\n",
    "im.save('im_seg_raw.png')"
   ]
  },
  {
   "cell_type": "markdown",
   "metadata": {},
   "source": [
    "Visualization: scale up image"
   ]
  },
  {
   "cell_type": "code",
   "execution_count": 4,
   "metadata": {},
   "outputs": [],
   "source": [
    "scaled_image = im_arr.copy()\n",
    "scaled_image = np.kron(scaled_image, np.ones((25, 25)))\n",
    "scaled_image = np.insert(scaled_image, 0, 1, axis = 0)\n",
    "scaled_image = np.insert(scaled_image, 251, 1, axis = 0)\n",
    "scaled_image = np.insert(scaled_image, 0, 1, axis = 1)\n",
    "scaled_image = np.insert(scaled_image, 251, 1, axis = 1)\n",
    "scaled_image = np.where(scaled_image > 0.5, 0, -1)\n",
    "scaled_image = np.where(scaled_image < -0.5, 1, 0)\n",
    "scaled_image = Image.fromarray(np.uint8(scaled_image*255))\n",
    "scaled_image.save('im_seg_raw_re.png')"
   ]
  },
  {
   "cell_type": "markdown",
   "metadata": {},
   "source": [
    "![im_seg_raw_re.png](./im_seg_raw_re.png \"target_rescale\")"
   ]
  },
  {
   "cell_type": "markdown",
   "metadata": {},
   "source": [
    "***"
   ]
  },
  {
   "cell_type": "markdown",
   "metadata": {},
   "source": [
    "### Step 3: choose aim (1, black)"
   ]
  },
  {
   "cell_type": "code",
   "execution_count": 5,
   "metadata": {},
   "outputs": [],
   "source": [
    "one_df = pd.DataFrame({'i': [], 'j': []})\n",
    "for i in range(np.size(im_arr,0)):\n",
    "    for j in range(np.size(im_arr,1)):\n",
    "        if im_arr[i][j] == 1:\n",
    "            one_df = one_df.append({'i': i, 'j': j}, ignore_index=True)\n",
    "one_df = one_df.astype('int')\n",
    "#print(one_df)"
   ]
  },
  {
   "cell_type": "markdown",
   "metadata": {},
   "source": [
    "***"
   ]
  },
  {
   "cell_type": "markdown",
   "metadata": {},
   "source": [
    "### Step 4: use clustering (DBSCAN) to segment\n",
    "1\\. Using DBSCAN to define clusters.  \n",
    "2\\. Well-defined epsilon (ε) can replace the logic of 4-connectivity.  \n",
    "3\\. Through the algorithm of DBSCAN, connected pixels will become a island.  \n",
    "4\\. Setting [min_samples = 1] can make isolated pixels also become isolated islands.  \n",
    "![DBSCAN.gif](./DBSCAN.gif \"DBSCAN\")"
   ]
  },
  {
   "cell_type": "code",
   "execution_count": 6,
   "metadata": {},
   "outputs": [],
   "source": [
    "X = one_df.to_numpy()\n",
    "y_pred = DBSCAN(eps = 1, min_samples = 1).fit_predict(X)\n",
    "db = DBSCAN(eps = 1, min_samples = 1).fit(X)\n",
    "core_samples_mask = np.zeros_like(db.labels_, dtype=bool)\n",
    "core_samples_mask[db.core_sample_indices_] = True\n",
    "labels = db.labels_\n",
    "n_clusters_ = len(set(labels)) - (1 if -1 in labels else 0)\n",
    "key = np.unique(y_pred)\n",
    "#print(key)\n",
    "result = {}\n",
    "for k in key:\n",
    "    mask = (y_pred == k)\n",
    "    y_new = y_pred[mask]\n",
    "    v = y_new.size\n",
    "    result[k] = v"
   ]
  },
  {
   "cell_type": "markdown",
   "metadata": {},
   "source": [
    "***"
   ]
  },
  {
   "cell_type": "markdown",
   "metadata": {},
   "source": [
    "### Step 5: result and plotting"
   ]
  },
  {
   "cell_type": "code",
   "execution_count": 7,
   "metadata": {},
   "outputs": [
    {
     "data": {
      "image/png": "[encoded data removed]",
      "text/plain": [
       "<Figure size 450x450 with 1 Axes>"
      ]
     },
     "metadata": {
      "needs_background": "light"
     },
     "output_type": "display_data"
    }
   ],
   "source": [
    "seg_label = np.array(y_pred)\n",
    "seg_label = y_pred.reshape(len(y_pred),1)\n",
    "seg_table = np.hstack((X, seg_label))\n",
    "seg_table = pd.DataFrame(seg_table, columns = ['i', 'j', 'seg_id'])\n",
    "\n",
    "plt.figure(figsize=(6.25,6.25))\n",
    "color = ['r', 'g', 'b']\n",
    "for i, c in zip(range(len(key)), color):\n",
    "    seg = seg_table[seg_table['seg_id'] == i]\n",
    "    seg = seg.to_numpy()\n",
    "    plt.scatter(seg[:, 1], len(im_arr)-seg[:, 0], c=c, marker='s', s=800, label=f'seg_{i}: {len(seg)}')\n",
    "x_ticks = np.linspace(0, 9, 10)\n",
    "plt.xticks(x_ticks)\n",
    "y_ticks = np.linspace(0, 9, 10)\n",
    "plt.yticks(y_ticks)\n",
    "plt.xlim(-0.5,9.5)\n",
    "plt.ylim(0.5,10.5)\n",
    "plt.legend(loc='best', labelspacing=2.15, borderpad=1.05)\n",
    "plt.title('Numbers of isolated islands: %d' % n_clusters_)\n",
    "plt.savefig('im_seg_result.png')\n",
    "plt.show()"
   ]
  },
  {
   "cell_type": "markdown",
   "metadata": {},
   "source": [
    "***"
   ]
  },
  {
   "cell_type": "markdown",
   "metadata": {},
   "source": [
    "- [x] Generate image from array.\n",
    "- [x] Save images.\n",
    "- [x] **Segment given image into 3 isolated islands.**\n",
    "- [x] **Count islands sizes.**\n",
    "- [x] Show and save results."
   ]
  },
  {
   "cell_type": "code",
   "execution_count": null,
   "metadata": {},
   "outputs": [],
   "source": []
  }
 ],
 "metadata": {
  "kernelspec": {
   "display_name": "Python 3.7.4 64-bit ('p3env': conda)",
   "language": "python",
   "name": "python37464bitp3envcondabc8b26821bfd4f1f81b74cc785c575df"
  },
  "language_info": {
   "codemirror_mode": {
    "name": "ipython",
    "version": 3
   },
   "file_extension": ".py",
   "mimetype": "text/x-python",
   "name": "python",
   "nbconvert_exporter": "python",
   "pygments_lexer": "ipython3",
   "version": "3.7.6"
  }
 },
 "nbformat": 4,
 "nbformat_minor": 4
}
